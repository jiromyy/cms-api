{
  "cells": [
    {
      "cell_type": "markdown",
      "metadata": {},
      "source": [
        "## Create Index"
      ]
    },
    {
      "cell_type": "markdown",
      "metadata": {},
      "source": [
        "### imports"
      ]
    },
    {
      "cell_type": "code",
      "execution_count": 1,
      "metadata": {},
      "outputs": [],
      "source": [
        "# Import required libraries  \n",
        "import os  \n",
        "from dotenv import load_dotenv  \n",
        "from azure.core.credentials import AzureKeyCredential  \n",
        "from azure.search.documents.indexes import SearchIndexClient  \n",
        "\n",
        "from azure.search.documents.indexes.models import (  \n",
        "    ExhaustiveKnnAlgorithmConfiguration,\n",
        "    ExhaustiveKnnParameters,\n",
        "    SearchIndex,  \n",
        "    SearchField,  \n",
        "    SearchFieldDataType,  \n",
        "    SimpleField,  \n",
        "    SearchableField,            \n",
        "    HnswAlgorithmConfiguration,\n",
        "    HnswParameters,  \n",
        "    VectorSearch,    \n",
        "    VectorSearchAlgorithmKind,\n",
        "    VectorSearchProfile,    \n",
        "    VectorSearchAlgorithmMetric,\n",
        "    ComplexField\n",
        "    \n",
        ")  \n",
        "\n",
        "  \n",
        "# Configure environment variables  \n",
        "load_dotenv()  \n",
        "\n",
        "service_endpoint = os.getenv(\"NEW_AI_SEARCH_ENDPOINT_PROD\") \n",
        "index_name = \"aspen-conso-index-prd\"\n",
        "# index_name = os.getenv(\"BCFG_AZURE_AI_SEARCH_API_KEY\") \n",
        "key = os.getenv(\"NEW_AI_SEARCH_API_KEY_PROD\") \n",
        "model: str = \"text-embedding-ada-002\" \n",
        "credential = AzureKeyCredential(key)"
      ]
    },
    {
      "cell_type": "markdown",
      "metadata": {},
      "source": [
        "### delete if exist index"
      ]
    },
    {
      "cell_type": "code",
      "execution_count": 2,
      "metadata": {},
      "outputs": [
        {
          "name": "stdout",
          "output_type": "stream",
          "text": [
            "Index 'aspen-conso-index-prd' deleted.\n"
          ]
        }
      ],
      "source": [
        "from azure.core.exceptions import ResourceNotFoundError\n",
        "\n",
        "# Create a search index client\n",
        "index_client = SearchIndexClient(\n",
        "    endpoint=service_endpoint, credential=credential)\n",
        "\n",
        "try:\n",
        "    # Check if the index exists\n",
        "    index_client.get_index(index_name)\n",
        "    # If exists, delete the index\n",
        "    index_client.delete_index(index_name)\n",
        "    print(f\"Index '{index_name}' deleted.\")\n",
        "except ResourceNotFoundError:\n",
        "    # If index does not exist, handle the exception\n",
        "    print(f\"Index '{index_name}' does not exist, no need to delete.\")"
      ]
    },
    {
      "cell_type": "code",
      "execution_count": 3,
      "metadata": {},
      "outputs": [
        {
          "name": "stdout",
          "output_type": "stream",
          "text": [
            " aspen-conso-index-prd created\n"
          ]
        }
      ],
      "source": [
        "# Configure the vector search configuration  \n",
        "vector_search = VectorSearch(\n",
        "    algorithms=[\n",
        "        HnswAlgorithmConfiguration(\n",
        "            name=\"myHnsw\",\n",
        "            kind=VectorSearchAlgorithmKind.HNSW,\n",
        "            parameters=HnswParameters(\n",
        "                m=4,\n",
        "                ef_construction=400,\n",
        "                ef_search=500,\n",
        "                metric=VectorSearchAlgorithmMetric.COSINE\n",
        "            )\n",
        "        ),\n",
        "        ExhaustiveKnnAlgorithmConfiguration(\n",
        "            name=\"myExhaustiveKnn\",\n",
        "            kind=VectorSearchAlgorithmKind.EXHAUSTIVE_KNN,\n",
        "            parameters=ExhaustiveKnnParameters(\n",
        "                metric=VectorSearchAlgorithmMetric.COSINE\n",
        "            )\n",
        "        )\n",
        "    ],\n",
        "    profiles=[\n",
        "        VectorSearchProfile(\n",
        "            name=\"myHnswProfile\",\n",
        "            algorithm_configuration_name=\"myHnsw\",\n",
        "        ),\n",
        "        VectorSearchProfile(\n",
        "            name=\"myExhaustiveKnnProfile\",\n",
        "            algorithm_configuration_name=\"myExhaustiveKnn\",\n",
        "        )\n",
        "    ]\n",
        ")\n",
        "\n",
        "\n",
        "# create index\n",
        "fields = [\n",
        "    SimpleField(name=\"id\", type=SearchFieldDataType.String, key=True, sortable=True, filterable=True, facetable=True),    \n",
        "    SearchableField(name=\"content\", type=SearchFieldDataType.String),\n",
        "    SearchableField(name=\"file_location\", type=SearchFieldDataType.String),     \n",
        "    SearchableField(name=\"document_title\", type=SearchFieldDataType.String, filterable=True),\n",
        "    SearchableField(name=\"download_url\", type=SearchFieldDataType.String),\n",
        "    SearchableField(name=\"edit_url\", type=SearchFieldDataType.String),\n",
        "    SearchableField(name=\"category\", type=SearchFieldDataType.String, filterable=True),\n",
        "    SearchField(name=\"contentVector\", type=SearchFieldDataType.Collection(SearchFieldDataType.Single),\n",
        "                searchable=True, vector_search_dimensions=1536, vector_search_profile_name=\"myHnswProfile\"),    \n",
        "]\n",
        "\n",
        "index = SearchIndex(name=index_name, fields=fields,\n",
        "                    vector_search=vector_search, \n",
        "                    )\n",
        "result = index_client.create_or_update_index(index)\n",
        "print(f' {result.name} created')"
      ]
    }
  ],
  "metadata": {
    "kernelspec": {
      "display_name": ".venv_azure_solutions",
      "language": "python",
      "name": "python3"
    },
    "language_info": {
      "codemirror_mode": {
        "name": "ipython",
        "version": 3
      },
      "file_extension": ".py",
      "mimetype": "text/x-python",
      "name": "python",
      "nbconvert_exporter": "python",
      "pygments_lexer": "ipython3",
      "version": "3.10.12"
    }
  },
  "nbformat": 4,
  "nbformat_minor": 2
}
